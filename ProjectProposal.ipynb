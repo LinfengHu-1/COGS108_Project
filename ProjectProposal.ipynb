{
 "cells": [
  {
   "cell_type": "markdown",
   "metadata": {},
   "source": [
    "# COGS 108 - Final Project Proposal"
   ]
  },
  {
   "cell_type": "markdown",
   "metadata": {},
   "source": [
    "# Names\n",
    "\n",
    "- Yang Li\n",
    "- Yiou Lyu\n",
    "- Linfeng Hu\n",
    "- Ruby Celeste Marroquin "
   ]
  },
  {
   "cell_type": "markdown",
   "metadata": {},
   "source": [
    "# Group Members IDs\n",
    "\n",
    "- A15560579\n",
    "- A15930345\n",
    "- A15473121\n",
    "- A16094382"
   ]
  },
  {
   "cell_type": "markdown",
   "metadata": {},
   "source": [
    "# Research Question"
   ]
  },
  {
   "cell_type": "markdown",
   "metadata": {},
   "source": [
    "How does a country's socioeconomic status affect its global emissions of Kyoto \n",
    "Greenhouse Gases per capita? \n",
    "Our research is limited to all the countries that we have governmental \n",
    "reports(HISTCR) of."
   ]
  },
  {
   "cell_type": "markdown",
   "metadata": {},
   "source": [
    "## Background and Prior Work"
   ]
  },
  {
   "cell_type": "markdown",
   "metadata": {},
   "source": [
    "   Global emissions of Greenhouse gases has always been a crucial topic. \n",
    "   Multiple United Nation convention has been held for that cause. We as \n",
    "   college students can feel drastic climate changes happening around us. And \n",
    "   we would like to know the contributors to these damages to better our future.\n",
    "    On the other hand, we are also aware that different countries are in \n",
    "    different developing stages and we want to consider that in our analysis.\n",
    "    \n",
    "   The PRIMAP-hist dataset first led us to consider the different categories \n",
    "   that contributed to global emission of Kyoto Greenhouse Gases. And then we \n",
    "   realized that population does have an effect on the total emissions of a \n",
    "   country. That's why we decided to compare the emission per capital instead \n",
    "   of emission in total. To compare emissions from developing and developed \n",
    "   country, we decided to cover every country that has governmental reports \n",
    "   about global emissions. Then, we decide to go by the country classification \n",
    "   given by the United Nation,  where nations are divided into over 10 types \n",
    "   according to their stage in economic condition. We will compare emission per \n",
    "   capita of \"developed economies\" and that of \"least developed countries\" in \n",
    "   our \n",
    "   analysis.\n",
    "    \n",
    "  \n",
    "   There are many researches on the topic of greenhouse gases emissions across\n",
    "    the world. We can find data about governmental reports of how much gas \n",
    "    emissions are changing from 1850 to 2015. However, not enough researches \n",
    "    have been done with regard to a countries' population(both difference \n",
    "    across country and difference in population growth). That's why we think \n",
    "    our question is important to ask. Relationship between socioeconomic status\n",
    "     of a country and its greenhouse gases emission should be put into a more \n",
    "     objective perspective. That's how we should focus our research.\n",
    "    \n",
    "References (include links):\n",
    "- 1) COGS 108 - Final Project (Group 7) of Spring quarter 2019\n",
    "- 2) Gütschow, J.; Jeffery, L.; Gieseke, R., Günther, A. (2019): The \n",
    "PRIMAP-hist national historical emissions time series (1850-2017). v2.1. \n",
    "GFZ Data Services. https://doi.org/10.5880/pik.2019.018\n",
    "- 3)https://en.wikipedia.org/wiki/List_of_countries_by_greenhouse_gas_emissions\n",
    "- 4)https://www.un.org/en/development/desa/policy/wesp/wesp_current/2014wesp_country_classification.pdf"
   ]
  },
  {
   "cell_type": "markdown",
   "metadata": {},
   "source": [
    "# Hypothesis\n"
   ]
  },
  {
   "cell_type": "markdown",
   "metadata": {},
   "source": [
    "We hypothesize that the developing countries(the ones with a lesser \n",
    "socioeconomic status) which we have records of would have contributed more \n",
    "on the emissions of Kyoto Greenhouse Gases per capita, especially on the IPC1 \n",
    "and 2 categories. Because they generally need more impactful industrial \n",
    "progresses and energy extraction to support its people and economy."
   ]
  },
  {
   "cell_type": "markdown",
   "metadata": {},
   "source": [
    "# Data"
   ]
  },
  {
   "cell_type": "markdown",
   "metadata": {},
   "source": [
    "variables should include: the countries we can find records to, their \n",
    "population, their GDP, UN classification of whether they're fuel \n",
    "exporters/importers, their per capita gross national income (GNI)their \n",
    "governmental reports of Kyoto Greenhouse Gases emissions, what factors \n",
    "contributed to their emissions and how much in percentage does each factor \n",
    "contributed. The data should include how each of the variables above changed \n",
    "over time in accord with their population growth. \n",
    "\n",
    "We would like the data to be stored as structured data like csv, xml or \n",
    "json files.\n",
    "\n",
    "We would like all the governmental reports of the countries of our choice.\n",
    "\n",
    "The observations would be governmental records or official/credible sources \n",
    "of a country's emission. Idealy, we would have the emission of all types \n",
    "of Kyoto Greenhouse gases."
   ]
  },
  {
   "cell_type": "markdown",
   "metadata": {},
   "source": [
    "# Ethics & Privacy"
   ]
  },
  {
   "cell_type": "markdown",
   "metadata": {},
   "source": [
    "Since we're using the government's reports, everything should be transparent.\n",
    " No privacy issues should arise from our analysis. There may be potential \n",
    " biases because governmental reports may consider the their appearance \n",
    " worldwide. We are not fully confident on their reliabilities.\n",
    "\n",
    "On the ethics perspective, the results of our analysis may pose nagetive \n",
    "effects on biggest emitters. This is because reducing emissions may affect \n",
    "their economy and their citizens. \n",
    "\n",
    "To overcome potential biases, we will look at more than one dataset and try \n",
    "to balance out the inaccuracies(if any arises). To overcome the possible \n",
    "ethical issues, we would focus more on the category (industry, energy, \n",
    "waste...) that caused current climate problem instead of a particular \n",
    "country. \n",
    "\n",
    "By analyzing the data we collected, we are trying to bring attention to \n",
    "global emissions and possible factors contributing to the current climate \n",
    "status. We don't mean to point to one specific country, but rather want to\n",
    "figure out the ultimate cause. This analysis is aimed to better the future. "
   ]
  },
  {
   "cell_type": "markdown",
   "metadata": {},
   "source": [
    "# Team Expectations "
   ]
  },
  {
   "cell_type": "markdown",
   "metadata": {},
   "source": [
    "* *Listen to each other*\n",
    "* *Consider every member's opinions equally*\n",
    "* *Be on time*"
   ]
  },
  {
   "cell_type": "markdown",
   "metadata": {},
   "source": [
    "# Project Timeline Proposal"
   ]
  },
  {
   "cell_type": "markdown",
   "metadata": {},
   "source": [
    "| Meeting Date  | Meeting Time| Completed Before Meeting  | Discuss at Meeting |\n",
    "|---|---|---|---|\n",
    "| 1/26  |  10 AM | Brainstorm topics/questions  | Determine group expectations; Discuss and decide on final project topic; discuss hypothesis; begin background research | \n",
    "| 1/26  |  1 PM |  Do background research on topic | Discuss ideal dataset(s) and ethics; draft project proposal | \n",
    "| 1/30  | 6 PM  | Finalize and submit project proposal; Search for datasets  | Discuss possible analytical approaches for our particular datasets; Assign group members to lead each specific part   |\n",
    "| 2/8  | 6 PM  | Import & Wrangle Data (Yang and Yiou) | Review/Edit wrangling(Ruby and Linfeng); Discuss Analysis Plan   |\n",
    "| 2/21  | 8 PM  | Finalize wrangling/EDA(Yang and Yiou); Begin Analysis (Linfeng and Ruby) | Discuss/edit Analysis; Complete project check-in |\n",
    "| 2/27  | 12 PM  | Complete analysis(all members); Draft results(Yang)/conclusion(Yiou)/discussion(Ruby and Linfeng)| Discuss/edit full project |\n",
    "| 3/5  | Before 11:59 PM  | Final Check of every member's own and each others' work, came to meeting with possible concerns and improvements in mind | Turn in Final Project & Group Project Surveys |"
   ]
  },
  {
   "cell_type": "code",
   "execution_count": null,
   "metadata": {},
   "outputs": [],
   "source": []
  }
 ],
 "metadata": {
  "kernelspec": {
   "display_name": "Python 3",
   "language": "python",
   "name": "python3"
  },
  "language_info": {
   "codemirror_mode": {
    "name": "ipython",
    "version": 3
   },
   "file_extension": ".py",
   "mimetype": "text/x-python",
   "name": "python",
   "nbconvert_exporter": "python",
   "pygments_lexer": "ipython3",
   "version": "3.7.4"
  },
  "pycharm": {
   "stem_cell": {
    "cell_type": "raw",
    "source": [],
    "metadata": {
     "collapsed": false
    }
   }
  }
 },
 "nbformat": 4,
 "nbformat_minor": 4
}