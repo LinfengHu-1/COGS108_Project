{
 "cells": [
  {
   "cell_type": "markdown",
   "metadata": {},
   "source": [
    "# COGS 108 Final Project Check-In"
   ]
  },
  {
   "cell_type": "markdown",
   "metadata": {},
   "source": [
    "# Names\n",
    "\n",
    "- Yang Li\n",
    "- Yiou Lyu\n",
    "- Linfeng Hu\n",
    "- Ruby Celeste Marroquin "
   ]
  },
  {
   "cell_type": "markdown",
   "metadata": {},
   "source": [
    "# Group Members IDs\n",
    "\n",
    "- A15560579\n",
    "- A15930345\n",
    "- A15473121\n",
    "- A16094382"
   ]
  },
  {
   "cell_type": "markdown",
   "metadata": {},
   "source": [
    "# Accomplishments"
   ]
  },
  {
   "cell_type": "markdown",
   "metadata": {},
   "source": [
    "*Briefly explain what your group has accomplished up to this point on your final project.*\n",
    "\n",
    "Our group decided to change our topic entirely from the project proposal. We arrived at this decision because the topic of air pollution seems too broad for us to conduct an analysis and we found it hard to figure out a research question that's comlex enough to multiple analyses. After 2 group meetings, we decided that our research will be around the topic of \"How does poverty influence the body mass indexes of US citizens?\". \n",
    "\n",
    "We have found and agreed upon on all the datasets that we wish to analyze on for now. These datasets are all in either JSON or CSV format. Therefore we are ready for the data cleaning and analyses part afterwards. However, we will remain open to any other possible new ideas that may require us to find more datasets.\n"
   ]
  },
  {
   "cell_type": "markdown",
   "metadata": {},
   "source": [
    "# Going Well"
   ]
  },
  {
   "cell_type": "markdown",
   "metadata": {},
   "source": [
    "*Briefly explain what has gone well so far in completing your group project.*\n",
    "\n",
    "Although we changed topic completely from the project proposal, we are able to agree on the new problem that we want to investigate with more passion and interests. The processes to find appropriate datasets is also going smoothly. We were able to find some nearly ideal datasets and we can all agree on the aspects we want to analyze on from these structured data. We have decided to split the work for multiple analyses surrounding our topic. And we will each work on our own part."
   ]
  },
  {
   "cell_type": "markdown",
   "metadata": {},
   "source": [
    "# Struggles"
   ]
  },
  {
   "cell_type": "markdown",
   "metadata": {},
   "source": [
    "*Breifly explain what snags or issues your group has faced.*\n",
    "\n",
    "Our research question, \"How does poverty influence the body mass indexes/BMI of US citizens?\",  seems too broad right now. This is partly because we want to integrate so many issues surrounding this topic of poverty. Right now we want to investigate variables like \"whether below the poverty line, unemployment, price of produce vs. junk food, availability of junk food around, health care accessibility\" would affect BMI. We are still working on it and we found it hard to narrow the question while maintain a certain complexity of our analyses."
   ]
  },
  {
   "cell_type": "markdown",
   "metadata": {},
   "source": [
    "# Plan Forward"
   ]
  },
  {
   "cell_type": "markdown",
   "metadata": {},
   "source": [
    "*Explain what your plan is for successful completion of your COGS 108 project. If any issues have arisen, address your plan for addressing these issues throughout the rest of the quarter.*\n",
    "\n",
    "We have agreed on a preliminary plan of how to split the workload and how to communicate with each other from this week forward. Each of us will continue to work on our parts of the data analyses and we will meet up if any problem arises. We are also familiar with each others' schedule by now so finding a time for meeting is no longer an issue."
   ]
  }
 ],
 "metadata": {
  "kernelspec": {
   "display_name": "Python 3",
   "language": "python",
   "name": "python3"
  },
  "language_info": {
   "codemirror_mode": {
    "name": "ipython",
    "version": 3
   },
   "file_extension": ".py",
   "mimetype": "text/x-python",
   "name": "python",
   "nbconvert_exporter": "python",
   "pygments_lexer": "ipython3",
   "version": "3.7.4"
  }
 },
 "nbformat": 4,
 "nbformat_minor": 4
}
